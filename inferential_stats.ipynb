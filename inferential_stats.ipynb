{
 "cells": [
  {
   "cell_type": "code",
   "execution_count": 7,
   "id": "5f45d047",
   "metadata": {},
   "outputs": [],
   "source": [
    "# Libraries\n",
    "import math\n",
    "import pandas as pd\n",
    "import numpy as np\n",
    "import matplotlib.pyplot as plt\n",
    "\n",
    "#new libs\n",
    "import scipy.stats as st\n",
    "import statsmodels.api as sm\n",
    "import statsmodels.formula.api as smf\n",
    "from scipy.stats import norm\n"
   ]
  },
  {
   "cell_type": "markdown",
   "id": "3fc0f6bc",
   "metadata": {},
   "source": [
    "### Null Hypothesis\n",
    "the average blood pressure from people in Hawaii is 120\n",
    "<br> <br>\n",
    "### Alternate Hypothesis\n",
    "the average blood pressure from people in Hawaii is higher than 120"
   ]
  },
  {
   "cell_type": "code",
   "execution_count": 18,
   "id": "ffbec496",
   "metadata": {},
   "outputs": [],
   "source": [
    "alpha = 0.05\n",
    "\n",
    "sample_mean = 130.1\n",
    "pop_mean = 120\n",
    "smp_std = 21.21\n",
    "n = 100"
   ]
  },
  {
   "cell_type": "code",
   "execution_count": 19,
   "id": "e8537291",
   "metadata": {},
   "outputs": [
    {
     "name": "stdout",
     "output_type": "stream",
     "text": [
      "Test Statistic (t): 4.76190\n"
     ]
    }
   ],
   "source": [
    "# Calculate the test statistic (z-score)\n",
    "t_stat = (sample_mean - pop_mean) / (smp_std / (n**0.5))\n",
    "print(f\"Test Statistic (t): {t_stat:.5f}\")"
   ]
  },
  {
   "cell_type": "code",
   "execution_count": 16,
   "id": "8c078228",
   "metadata": {},
   "outputs": [
    {
     "name": "stdout",
     "output_type": "stream",
     "text": [
      "Critical Value: -1.64\n"
     ]
    }
   ],
   "source": [
    "critical_value = st.norm.ppf(alpha)\n",
    "print(f\"Critical Value: {critical_value:.2f}\")"
   ]
  },
  {
   "cell_type": "code",
   "execution_count": 17,
   "id": "9cd7d669",
   "metadata": {},
   "outputs": [
    {
     "name": "stdout",
     "output_type": "stream",
     "text": [
      "P-Value: 0.0000\n",
      "Reject the Null Hypothesis: Significant result.\n"
     ]
    }
   ],
   "source": [
    "p_value = 1 - norm.cdf(t_stat)\n",
    "print(f\"P-Value: {p_value:.4f}\")\n",
    "\n",
    "if p_value < alpha:\n",
    "    print(\"Reject the Null Hypothesis: Significant result.\")\n",
    "else:\n",
    "    print(\"Fail to Reject the Null Hypothesis: Not a significant result.\")"
   ]
  }
 ],
 "metadata": {
  "kernelspec": {
   "display_name": "Python 3 (ipykernel)",
   "language": "python",
   "name": "python3"
  },
  "language_info": {
   "codemirror_mode": {
    "name": "ipython",
    "version": 3
   },
   "file_extension": ".py",
   "mimetype": "text/x-python",
   "name": "python",
   "nbconvert_exporter": "python",
   "pygments_lexer": "ipython3",
   "version": "3.11.7"
  }
 },
 "nbformat": 4,
 "nbformat_minor": 5
}
